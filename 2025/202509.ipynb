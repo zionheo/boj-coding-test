{
 "cells": [
  {
   "cell_type": "markdown",
   "id": "083e9341",
   "metadata": {},
   "source": [
    "# 2557 Hello World | 구현 | B5\n"
   ]
  },
  {
   "cell_type": "code",
   "execution_count": 1,
   "id": "5e89f812",
   "metadata": {},
   "outputs": [
    {
     "name": "stdout",
     "output_type": "stream",
     "text": [
      "Hello World!\n"
     ]
    }
   ],
   "source": [
    "print (\"Hello World!\")"
   ]
  },
  {
   "cell_type": "markdown",
   "id": "eab2a985",
   "metadata": {},
   "source": [
    "# 1000 A+B | 구현 | B5\n"
   ]
  },
  {
   "cell_type": "code",
   "execution_count": 5,
   "id": "83d0d4af",
   "metadata": {},
   "outputs": [
    {
     "name": "stdout",
     "output_type": "stream",
     "text": [
      "5\n"
     ]
    }
   ],
   "source": [
    "s = input()  # 사용자가 한 줄 입력\n",
    "parts = s.split() # 공백을 기준으로 문자열을 나눔\n",
    "a = int(parts[0])\n",
    "b = int(parts[1])\n",
    "\n",
    "print ( a + b )  # 문자열을 숫자로 변환하여 더함\n"
   ]
  }
 ],
 "metadata": {
  "kernelspec": {
   "display_name": "Python 3",
   "language": "python",
   "name": "python3"
  },
  "language_info": {
   "codemirror_mode": {
    "name": "ipython",
    "version": 3
   },
   "file_extension": ".py",
   "mimetype": "text/x-python",
   "name": "python",
   "nbconvert_exporter": "python",
   "pygments_lexer": "ipython3",
   "version": "3.11.9"
  }
 },
 "nbformat": 4,
 "nbformat_minor": 5
}
