{
 "cells": [
  {
   "cell_type": "markdown",
   "id": "083e9341",
   "metadata": {},
   "source": [
    "# 2557 Hello World | 구현 | B5\n"
   ]
  },
  {
   "cell_type": "code",
   "execution_count": 1,
   "id": "5e89f812",
   "metadata": {},
   "outputs": [
    {
     "name": "stdout",
     "output_type": "stream",
     "text": [
      "Hello World!\n"
     ]
    }
   ],
   "source": [
    "print (\"Hello World!\")"
   ]
  },
  {
   "cell_type": "markdown",
   "id": "eab2a985",
   "metadata": {},
   "source": [
    "# 1000 A+B | 구현 | B5\n"
   ]
  },
  {
   "cell_type": "code",
   "execution_count": 5,
   "id": "83d0d4af",
   "metadata": {},
   "outputs": [
    {
     "name": "stdout",
     "output_type": "stream",
     "text": [
      "5\n"
     ]
    }
   ],
   "source": [
    "s = input()  # 사용자가 한 줄 입력\n",
    "parts = s.split() # 공백을 기준으로 문자열을 나눔\n",
    "a = int(parts[0])\n",
    "b = int(parts[1])\n",
    "\n",
    "print ( a + b )  # 문자열을 숫자로 변환하여 더함\n"
   ]
  },
  {
   "cell_type": "markdown",
   "id": "d6504aa1",
   "metadata": {},
   "source": [
    "## 2525 오븐시계 |구현 | B5"
   ]
  },
  {
   "cell_type": "code",
   "execution_count": null,
   "id": "2d4875cd",
   "metadata": {},
   "outputs": [
    {
     "name": "stdout",
     "output_type": "stream",
     "text": [
      "11 40\n"
     ]
    }
   ],
   "source": [
    "\n",
    "\n",
    "import sys\n",
    "s = list(map(int,sys.stdin.readline.split()))\n",
    "a = s[0]\n",
    "b = s[1]\n",
    "d = int(sys.stdin.readline())\n",
    "q = (b + d) // 60\n",
    "w = (b + d) % 60\n",
    "if b + d < 60:\n",
    "    print(a,b+d)\n",
    "else:\n",
    "    if a + q < 24:\n",
    "        print(a+q, w)\n",
    "    else:\n",
    "        print((a + q) % 24, w)\n",
    "\n"
   ]
  },
  {
   "cell_type": "markdown",
   "id": "e5ab4815",
   "metadata": {},
   "source": [
    "## 10817 세수 | 구현 | B5"
   ]
  },
  {
   "cell_type": "code",
   "execution_count": 16,
   "id": "bbb30435",
   "metadata": {},
   "outputs": [
    {
     "name": "stdout",
     "output_type": "stream",
     "text": [
      "20\n"
     ]
    }
   ],
   "source": [
    "s = list(map(int,input().split()))\n",
    "a = s[0]\n",
    "b = s[1]\n",
    "c = s[2]\n",
    "z = [a, b, c]\n",
    "z.sort()\n",
    "print(z[1])"
   ]
  },
  {
   "cell_type": "markdown",
   "id": "8dbcb2b2",
   "metadata": {},
   "source": [
    "## 2480 주사위 세개 | 구현 | b5"
   ]
  },
  {
   "cell_type": "code",
   "execution_count": null,
   "id": "413077c8",
   "metadata": {},
   "outputs": [
    {
     "name": "stdout",
     "output_type": "stream",
     "text": [
      "400\n"
     ]
    }
   ],
   "source": [
    "s = list(map(int,input().split()))\n",
    "a = s[0]\n",
    "b = s[1]\n",
    "c = s[2]\n",
    "d = [a,b,c]\n",
    "d.sort()\n",
    "if a == b == c:\n",
    "    print(10000 + (a * 1000))\n",
    "elif a == b or a == c:\n",
    "    print(1000 + a * 100)\n",
    "elif b == c:\n",
    "    print(1000 + b * 100)\n",
    "else:\n",
    "        d = [a,b,c]\n",
    "        d.sort()    \n",
    "        print(d[2] * 100)\n",
    "    "
   ]
  },
  {
   "cell_type": "markdown",
   "id": "b8680211",
   "metadata": {},
   "source": [
    "## 4344 평균은 넘겠지 | 구현 | B5"
   ]
  },
  {
   "cell_type": "code",
   "execution_count": null,
   "id": "7c2ee401",
   "metadata": {},
   "outputs": [
    {
     "name": "stdout",
     "output_type": "stream",
     "text": [
      "33.333%\n"
     ]
    }
   ],
   "source": [
    "s = int(input())\n",
    "k = list(map(int,input().split()))\n",
    "a = sum(k)\n",
    "b = a / s\n",
    "c = 0\n",
    "for i in k:\n",
    "    if i > b:\n",
    "        c += 1\n",
    "q = c / s * 100\n",
    "print(f\"{q:.3f}%\")\n"
   ]
  },
  {
   "cell_type": "markdown",
   "id": "419ecc53",
   "metadata": {},
   "source": [
    "## 11653 소인수분해 | 구현 | B5"
   ]
  },
  {
   "cell_type": "code",
   "execution_count": null,
   "id": "4835a498",
   "metadata": {},
   "outputs": [],
   "source": [
    "s = int(input())\n"
   ]
  },
  {
   "cell_type": "markdown",
   "id": "4f85938d",
   "metadata": {},
   "source": [
    "## 2562 최댓값 | 구현 | B5"
   ]
  },
  {
   "cell_type": "code",
   "execution_count": 5,
   "id": "f5082d58",
   "metadata": {},
   "outputs": [
    {
     "name": "stdout",
     "output_type": "stream",
     "text": [
      "90\n",
      "9\n"
     ]
    }
   ],
   "source": [
    "s = []\n",
    "for i in range(9):\n",
    "    s.append(int(input()))\n",
    "    m = max(s)\n",
    "    a = s.index(m)\n",
    "print(m)\n",
    "print(a+1)"
   ]
  },
  {
   "cell_type": "markdown",
   "id": "3e63e894",
   "metadata": {},
   "source": [
    "## 11654 아스키 코드 | 구현 | B5"
   ]
  },
  {
   "cell_type": "code",
   "execution_count": 14,
   "id": "459827f3",
   "metadata": {},
   "outputs": [
    {
     "name": "stdout",
     "output_type": "stream",
     "text": [
      "48\n"
     ]
    }
   ],
   "source": [
    "s = input()\n",
    "print(ord(s))"
   ]
  },
  {
   "cell_type": "markdown",
   "id": "9766c1de",
   "metadata": {},
   "source": [
    "## 11720 숫자의 합계 | 구현 | B5"
   ]
  },
  {
   "cell_type": "code",
   "execution_count": null,
   "id": "69e76843",
   "metadata": {},
   "outputs": [
    {
     "name": "stdout",
     "output_type": "stream",
     "text": [
      "1234\n"
     ]
    }
   ],
   "source": [
    "s = input()\n",
    "q = input()\n",
    "g = 0\n",
    "for i in q:\n",
    "    g += int(i)\n",
    "print(g)\n"
   ]
  },
  {
   "cell_type": "markdown",
   "id": "7355825c",
   "metadata": {},
   "source": [
    "## 1152 단어의 개수 | 구현 | B5"
   ]
  },
  {
   "cell_type": "code",
   "execution_count": null,
   "id": "2f5950bd",
   "metadata": {},
   "outputs": [],
   "source": [
    "q = input().split()\n",
    "print(len(q))\n"
   ]
  },
  {
   "cell_type": "markdown",
   "id": "df518bbe",
   "metadata": {},
   "source": [
    "## 2908 상수 | 구현 | B5"
   ]
  },
  {
   "cell_type": "code",
   "execution_count": 45,
   "id": "6a9e6ffa",
   "metadata": {},
   "outputs": [
    {
     "name": "stdout",
     "output_type": "stream",
     "text": [
      "921\n"
     ]
    }
   ],
   "source": [
    "s = input().split()\n",
    "a = s[0][::-1]\n",
    "b = s[1][::-1]\n",
    "if int(a) > int(b):\n",
    "    print(a)\n",
    "else:\n",
    "    print(b)"
   ]
  },
  {
   "cell_type": "markdown",
   "id": "df2d8f18",
   "metadata": {},
   "source": [
    "## 1157 단어공부 | 구현 | B5"
   ]
  },
  {
   "cell_type": "code",
   "execution_count": null,
   "id": "476a7ce8",
   "metadata": {},
   "outputs": [],
   "source": [
    "s = input()\n",
    "for i in len(s):\n",
    "    s.upper()\n",
    "    "
   ]
  },
  {
   "cell_type": "markdown",
   "id": "fdebf738",
   "metadata": {},
   "source": [
    "## 1181 단어 정렬 | 구현 | B5"
   ]
  },
  {
   "cell_type": "code",
   "execution_count": null,
   "id": "1c06a629",
   "metadata": {},
   "outputs": [],
   "source": [
    "import sys\n",
    "s = int(sys.stdin.readline())\n",
    "q = []\n",
    "for i in range(s):\n",
    "    q.append((sys.stdin.readline()))\n",
    "    q = list(set(q))\n",
    "    q = sorted(q, key=lambda x: (len(x), x))\n",
    "for n in q:\n",
    "    print(n)"
   ]
  },
  {
   "cell_type": "markdown",
   "id": "e041e67b",
   "metadata": {},
   "source": [
    "## 10809 알파벳 찾기 | 구현 | B5"
   ]
  },
  {
   "cell_type": "code",
   "execution_count": null,
   "id": "4f2afc25",
   "metadata": {},
   "outputs": [
    {
     "ename": "IndexError",
     "evalue": "list index out of range",
     "output_type": "error",
     "traceback": [
      "\u001b[31m---------------------------------------------------------------------------\u001b[39m",
      "\u001b[31mIndexError\u001b[39m                                Traceback (most recent call last)",
      "\u001b[36mCell\u001b[39m\u001b[36m \u001b[39m\u001b[32mIn[1]\u001b[39m\u001b[32m, line 3\u001b[39m\n\u001b[32m      1\u001b[39m s = \u001b[38;5;28minput\u001b[39m()\n\u001b[32m      2\u001b[39m a = [\u001b[33m\"\u001b[39m\u001b[33ma,b,c,d,e,f,g,h,i,j,k,l,m,n,o,p,q,r,s,t,u,v,w,x,y,z\u001b[39m\u001b[33m\"\u001b[39m]\n\u001b[32m----> \u001b[39m\u001b[32m3\u001b[39m \u001b[38;5;28mprint\u001b[39m(\u001b[43ma\u001b[49m\u001b[43m[\u001b[49m\u001b[32;43m1\u001b[39;49m\u001b[43m]\u001b[49m)\n",
      "\u001b[31mIndexError\u001b[39m: list index out of range"
     ]
    }
   ],
   "source": [
    "# 모르겠다"
   ]
  },
  {
   "cell_type": "code",
   "execution_count": 8,
   "id": "26cdfdb6",
   "metadata": {},
   "outputs": [
    {
     "name": "stdout",
     "output_type": "stream",
     "text": [
      "28\n"
     ]
    }
   ],
   "source": [
    "s = input()\n",
    "w = 0\n",
    "for ch in s:\n",
    "    if ch in \"ABC\":\n",
    "        w += 3\n",
    "    elif ch in \"DEF\":\n",
    "        w += 4\n",
    "    elif ch in \"GHI\":\n",
    "        w += 5\n",
    "    elif ch in \"JKL\":\n",
    "        w += 6\n",
    "    elif ch in \"MNO\":\n",
    "        w += 7\n",
    "    elif ch in \"PQRS\":\n",
    "        w += 8\n",
    "    elif ch in \"TUV\":\n",
    "        w += 9\n",
    "    elif ch in \"WXYZ\":\n",
    "        w += 10\n",
    "print(w)\n"
   ]
  },
  {
   "cell_type": "markdown",
   "id": "d13f654d",
   "metadata": {},
   "source": [
    "## 2587 대표값2 | 구현 | B5"
   ]
  },
  {
   "cell_type": "code",
   "execution_count": 19,
   "id": "43eec20c",
   "metadata": {},
   "outputs": [
    {
     "ename": "ValueError",
     "evalue": "invalid literal for int() with base 10: ''",
     "output_type": "error",
     "traceback": [
      "\u001b[31m---------------------------------------------------------------------------\u001b[39m",
      "\u001b[31mValueError\u001b[39m                                Traceback (most recent call last)",
      "\u001b[36mCell\u001b[39m\u001b[36m \u001b[39m\u001b[32mIn[19]\u001b[39m\u001b[32m, line 3\u001b[39m\n\u001b[32m      1\u001b[39m q = []\n\u001b[32m      2\u001b[39m \u001b[38;5;28;01mfor\u001b[39;00m i \u001b[38;5;129;01min\u001b[39;00m \u001b[38;5;28mrange\u001b[39m(\u001b[32m5\u001b[39m):\n\u001b[32m----> \u001b[39m\u001b[32m3\u001b[39m     q.append((\u001b[38;5;28;43mint\u001b[39;49m\u001b[43m(\u001b[49m\u001b[38;5;28;43minput\u001b[39;49m\u001b[43m(\u001b[49m\u001b[43m)\u001b[49m\u001b[43m)\u001b[49m))\n\u001b[32m      4\u001b[39m a = \u001b[38;5;28msum\u001b[39m(q)\n\u001b[32m      5\u001b[39m z = a // \u001b[32m5\u001b[39m\n",
      "\u001b[31mValueError\u001b[39m: invalid literal for int() with base 10: ''"
     ]
    }
   ],
   "source": [
    "q = []\n",
    "for i in range(5):\n",
    "    q.append((int(input())))\n",
    "a = sum(q)\n",
    "z = a // 5\n",
    "q.sort()\n",
    "e = q[2]\n",
    "print(z)\n",
    "print(e)"
   ]
  },
  {
   "cell_type": "markdown",
   "id": "5299f2b2",
   "metadata": {},
   "source": [
    "## 2750 수 정렬하기 | 구현 | B5"
   ]
  },
  {
   "cell_type": "code",
   "execution_count": null,
   "id": "c6053cc5",
   "metadata": {},
   "outputs": [
    {
     "name": "stdout",
     "output_type": "stream",
     "text": [
      "1\n",
      "2\n",
      "3\n",
      "4\n",
      "5\n"
     ]
    }
   ],
   "source": [
    "num = int(input())\n",
    "lis = []\n",
    "for i in range(num):\n",
    "    lis.append(int(input()))\n",
    "lis.sort()\n",
    "for q in lis:\n",
    "    print(q)  \n",
    "    "
   ]
  },
  {
   "cell_type": "markdown",
   "id": "b4534691",
   "metadata": {},
   "source": [
    "## 5063 TGN | 구현 | B5"
   ]
  },
  {
   "cell_type": "code",
   "execution_count": 39,
   "id": "10732f18",
   "metadata": {},
   "outputs": [
    {
     "name": "stdout",
     "output_type": "stream",
     "text": [
      "advertise\n"
     ]
    },
    {
     "ename": "KeyboardInterrupt",
     "evalue": "Interrupted by user",
     "output_type": "error",
     "traceback": [
      "\u001b[31m---------------------------------------------------------------------------\u001b[39m",
      "\u001b[31mKeyboardInterrupt\u001b[39m                         Traceback (most recent call last)",
      "\u001b[36mCell\u001b[39m\u001b[36m \u001b[39m\u001b[32mIn[39]\u001b[39m\u001b[32m, line 3\u001b[39m\n\u001b[32m      1\u001b[39m num = \u001b[38;5;28mint\u001b[39m(\u001b[38;5;28minput\u001b[39m())\n\u001b[32m      2\u001b[39m \u001b[38;5;28;01mfor\u001b[39;00m i \u001b[38;5;129;01min\u001b[39;00m \u001b[38;5;28mrange\u001b[39m(num):\n\u001b[32m----> \u001b[39m\u001b[32m3\u001b[39m     w = \u001b[38;5;28;43minput\u001b[39;49m\u001b[43m(\u001b[49m\u001b[43m)\u001b[49m\n\u001b[32m      5\u001b[39m     a = \u001b[38;5;28mint\u001b[39m(w[\u001b[32m0\u001b[39m])\n\u001b[32m      6\u001b[39m     b = \u001b[38;5;28mint\u001b[39m(w[\u001b[32m1\u001b[39m])\n",
      "\u001b[36mFile \u001b[39m\u001b[32m~\\AppData\\Roaming\\Python\\Python313\\site-packages\\ipykernel\\kernelbase.py:1275\u001b[39m, in \u001b[36mKernel.raw_input\u001b[39m\u001b[34m(self, prompt)\u001b[39m\n\u001b[32m   1273\u001b[39m     msg = \u001b[33m\"\u001b[39m\u001b[33mraw_input was called, but this frontend does not support input requests.\u001b[39m\u001b[33m\"\u001b[39m\n\u001b[32m   1274\u001b[39m     \u001b[38;5;28;01mraise\u001b[39;00m StdinNotImplementedError(msg)\n\u001b[32m-> \u001b[39m\u001b[32m1275\u001b[39m \u001b[38;5;28;01mreturn\u001b[39;00m \u001b[38;5;28;43mself\u001b[39;49m\u001b[43m.\u001b[49m\u001b[43m_input_request\u001b[49m\u001b[43m(\u001b[49m\n\u001b[32m   1276\u001b[39m \u001b[43m    \u001b[49m\u001b[38;5;28;43mstr\u001b[39;49m\u001b[43m(\u001b[49m\u001b[43mprompt\u001b[49m\u001b[43m)\u001b[49m\u001b[43m,\u001b[49m\n\u001b[32m   1277\u001b[39m \u001b[43m    \u001b[49m\u001b[38;5;28;43mself\u001b[39;49m\u001b[43m.\u001b[49m\u001b[43m_parent_ident\u001b[49m\u001b[43m[\u001b[49m\u001b[33;43m\"\u001b[39;49m\u001b[33;43mshell\u001b[39;49m\u001b[33;43m\"\u001b[39;49m\u001b[43m]\u001b[49m\u001b[43m,\u001b[49m\n\u001b[32m   1278\u001b[39m \u001b[43m    \u001b[49m\u001b[38;5;28;43mself\u001b[39;49m\u001b[43m.\u001b[49m\u001b[43mget_parent\u001b[49m\u001b[43m(\u001b[49m\u001b[33;43m\"\u001b[39;49m\u001b[33;43mshell\u001b[39;49m\u001b[33;43m\"\u001b[39;49m\u001b[43m)\u001b[49m\u001b[43m,\u001b[49m\n\u001b[32m   1279\u001b[39m \u001b[43m    \u001b[49m\u001b[43mpassword\u001b[49m\u001b[43m=\u001b[49m\u001b[38;5;28;43;01mFalse\u001b[39;49;00m\u001b[43m,\u001b[49m\n\u001b[32m   1280\u001b[39m \u001b[43m\u001b[49m\u001b[43m)\u001b[49m\n",
      "\u001b[36mFile \u001b[39m\u001b[32m~\\AppData\\Roaming\\Python\\Python313\\site-packages\\ipykernel\\kernelbase.py:1320\u001b[39m, in \u001b[36mKernel._input_request\u001b[39m\u001b[34m(self, prompt, ident, parent, password)\u001b[39m\n\u001b[32m   1317\u001b[39m \u001b[38;5;28;01mexcept\u001b[39;00m \u001b[38;5;167;01mKeyboardInterrupt\u001b[39;00m:\n\u001b[32m   1318\u001b[39m     \u001b[38;5;66;03m# re-raise KeyboardInterrupt, to truncate traceback\u001b[39;00m\n\u001b[32m   1319\u001b[39m     msg = \u001b[33m\"\u001b[39m\u001b[33mInterrupted by user\u001b[39m\u001b[33m\"\u001b[39m\n\u001b[32m-> \u001b[39m\u001b[32m1320\u001b[39m     \u001b[38;5;28;01mraise\u001b[39;00m \u001b[38;5;167;01mKeyboardInterrupt\u001b[39;00m(msg) \u001b[38;5;28;01mfrom\u001b[39;00m\u001b[38;5;250m \u001b[39m\u001b[38;5;28;01mNone\u001b[39;00m\n\u001b[32m   1321\u001b[39m \u001b[38;5;28;01mexcept\u001b[39;00m \u001b[38;5;167;01mException\u001b[39;00m:\n\u001b[32m   1322\u001b[39m     \u001b[38;5;28mself\u001b[39m.log.warning(\u001b[33m\"\u001b[39m\u001b[33mInvalid Message:\u001b[39m\u001b[33m\"\u001b[39m, exc_info=\u001b[38;5;28;01mTrue\u001b[39;00m)\n",
      "\u001b[31mKeyboardInterrupt\u001b[39m: Interrupted by user"
     ]
    }
   ],
   "source": [
    "num = int(input())\n",
    "for i in range(num):\n",
    "    w = input()\n",
    "    q = w.split()\n",
    "    a = int(q[0])\n",
    "    b = int(q[1])\n",
    "    c = int(q[2])\n",
    "    if b - c > a:\n",
    "        print('advertise')\n",
    "    elif b - c == a:\n",
    "        print('does not matter')\n",
    "    else:\n",
    "        print('do not advertise')"
   ]
  },
  {
   "cell_type": "markdown",
   "id": "b27f2234",
   "metadata": {},
   "source": [
    "## 2577 숫자의 개수 | 구현 | B5"
   ]
  },
  {
   "cell_type": "code",
   "execution_count": null,
   "id": "cb2e0dfe",
   "metadata": {},
   "outputs": [
    {
     "ename": "TypeError",
     "evalue": "'set' object does not support item assignment",
     "output_type": "error",
     "traceback": [
      "\u001b[31m---------------------------------------------------------------------------\u001b[39m",
      "\u001b[31mTypeError\u001b[39m                                 Traceback (most recent call last)",
      "\u001b[36mCell\u001b[39m\u001b[36m \u001b[39m\u001b[32mIn[41]\u001b[39m\u001b[32m, line 15\u001b[39m\n\u001b[32m     13\u001b[39m     letter_count[character] += \u001b[32m1\u001b[39m\n\u001b[32m     14\u001b[39m \u001b[38;5;28;01melse\u001b[39;00m:\n\u001b[32m---> \u001b[39m\u001b[32m15\u001b[39m     \u001b[43mletter_count\u001b[49m\u001b[43m[\u001b[49m\u001b[43mcharacter\u001b[49m\u001b[43m]\u001b[49m = \u001b[32m1\u001b[39m\n",
      "\u001b[31mTypeError\u001b[39m: 'set' object does not support item assignment"
     ]
    }
   ],
   "source": [
    "\n",
    "a = int(input())\n",
    "b = int(input())\n",
    "c = int(input())\n",
    "rhq = str(a * b * c)\n",
    "letter_count = {}\n",
    "for character in rhq:\n",
    "    if character in letter_count:\n",
    "        letter_count[character] += 1\n",
    "    else:\n",
    "        letter_count[character] = 1\n",
    "for i in range(10):\n",
    "    if str(i) in letter_count:\n",
    "        print(letter_count[str(i)])\n",
    "    else:\n",
    "        print(0)\n"
   ]
  },
  {
   "cell_type": "markdown",
   "id": "e6a1c8c7",
   "metadata": {},
   "source": [
    "## 3052 나머지 | 구현 | B5"
   ]
  },
  {
   "cell_type": "code",
   "execution_count": 45,
   "id": "572214da",
   "metadata": {},
   "outputs": [
    {
     "name": "stdout",
     "output_type": "stream",
     "text": [
      "10\n"
     ]
    }
   ],
   "source": [
    "z = []\n",
    "e = 0\n",
    "for i in range(10):\n",
    "    z.append(int(input()))\n",
    "d = []\n",
    "for num in z:\n",
    "    w = num % 42\n",
    "    if w not in d:\n",
    "        d.append(w)\n",
    "print(len(d))"
   ]
  },
  {
   "cell_type": "markdown",
   "id": "2c3debe9",
   "metadata": {},
   "source": [
    "## 1546 평균 | 구현 | B5"
   ]
  },
  {
   "cell_type": "code",
   "execution_count": 55,
   "id": "a157fef2",
   "metadata": {},
   "outputs": [
    {
     "ename": "TypeError",
     "evalue": "'list' object is not callable",
     "output_type": "error",
     "traceback": [
      "\u001b[31m---------------------------------------------------------------------------\u001b[39m",
      "\u001b[31mTypeError\u001b[39m                                 Traceback (most recent call last)",
      "\u001b[36mCell\u001b[39m\u001b[36m \u001b[39m\u001b[32mIn[55]\u001b[39m\u001b[32m, line 2\u001b[39m\n\u001b[32m      1\u001b[39m q = \u001b[38;5;28mint\u001b[39m(\u001b[38;5;28minput\u001b[39m())\n\u001b[32m----> \u001b[39m\u001b[32m2\u001b[39m s = \u001b[38;5;28;43mlist\u001b[39;49m\u001b[43m(\u001b[49m\u001b[38;5;28;43mmap\u001b[39;49m\u001b[43m(\u001b[49m\u001b[38;5;28;43mint\u001b[39;49m\u001b[43m,\u001b[49m\u001b[38;5;28;43minput\u001b[39;49m\u001b[43m(\u001b[49m\u001b[43m)\u001b[49m\u001b[43m.\u001b[49m\u001b[43msplit\u001b[49m\u001b[43m(\u001b[49m\u001b[43m)\u001b[49m\u001b[43m)\u001b[49m\u001b[43m)\u001b[49m\n\u001b[32m      3\u001b[39m ex = []\n\u001b[32m      4\u001b[39m mx = \u001b[38;5;28mmax\u001b[39m(s)\n",
      "\u001b[31mTypeError\u001b[39m: 'list' object is not callable"
     ]
    }
   ],
   "source": [
    "q = int(input())\n",
    "s = list(map(int,input().split()))\n",
    "ex = []\n",
    "mx = max(s)\n",
    "for num in s:\n",
    "    ex.append(num / mx * 100)\n",
    "avg = sum(ex) / q\n",
    "print(avg)"
   ]
  },
  {
   "cell_type": "markdown",
   "id": "f3967db7",
   "metadata": {},
   "source": [
    "## 14425 문자열 집합 | 구현 | B5"
   ]
  },
  {
   "cell_type": "code",
   "execution_count": 59,
   "id": "e6ae4abf",
   "metadata": {},
   "outputs": [
    {
     "name": "stdout",
     "output_type": "stream",
     "text": [
      "1\n"
     ]
    }
   ],
   "source": [
    "o = input()\n",
    "a = o.split()\n",
    "b = int(a[0])\n",
    "c = int(a[1])\n",
    "w = []\n",
    "e = []\n",
    "cnt = 0\n",
    "for i in range(b):\n",
    "    w.append(input())\n",
    "for k in range(c):\n",
    "    e.append(input())\n",
    "for t in e:\n",
    "    if t in w:\n",
    "        cnt += 1\n",
    "print(cnt)"
   ]
  },
  {
   "cell_type": "markdown",
   "id": "e7f354c3",
   "metadata": {},
   "source": [
    "## 1764 듣보잡 | 구현 | B5"
   ]
  },
  {
   "cell_type": "code",
   "execution_count": 65,
   "id": "61945c20",
   "metadata": {},
   "outputs": [
    {
     "name": "stdout",
     "output_type": "stream",
     "text": [
      "2\n",
      "foden\n",
      "son\n"
     ]
    }
   ],
   "source": [
    "r = input()\n",
    "e = r.split()\n",
    "a = int(e[0])\n",
    "b = int(e[1])\n",
    "f = []\n",
    "t = []\n",
    "z = []\n",
    "cnt = 0\n",
    "for i in range(a):\n",
    "    f.append(input())\n",
    "for g in range(b):\n",
    "    t.append(input())\n",
    "for y in f:\n",
    "    if y in t:\n",
    "        z.append(y)\n",
    "        ro = sorted(z)\n",
    "\n",
    "        cnt += 1\n",
    "print(cnt)\n",
    "for v in ro:\n",
    "    print(v)"
   ]
  },
  {
   "cell_type": "markdown",
   "id": "02ad4968",
   "metadata": {},
   "source": [
    "## 10815 숫자카드 | 구현 | B5"
   ]
  },
  {
   "cell_type": "code",
   "execution_count": 67,
   "id": "abea65af",
   "metadata": {},
   "outputs": [
    {
     "ename": "ValueError",
     "evalue": "invalid literal for int() with base 10: ''",
     "output_type": "error",
     "traceback": [
      "\u001b[31m---------------------------------------------------------------------------\u001b[39m",
      "\u001b[31mValueError\u001b[39m                                Traceback (most recent call last)",
      "\u001b[36mCell\u001b[39m\u001b[36m \u001b[39m\u001b[32mIn[67]\u001b[39m\u001b[32m, line 1\u001b[39m\n\u001b[32m----> \u001b[39m\u001b[32m1\u001b[39m q = \u001b[38;5;28;43mint\u001b[39;49m\u001b[43m(\u001b[49m\u001b[38;5;28;43minput\u001b[39;49m\u001b[43m(\u001b[49m\u001b[43m)\u001b[49m\u001b[43m)\u001b[49m\n\u001b[32m      2\u001b[39m g = []\n\u001b[32m      3\u001b[39m cards = \u001b[38;5;28mset\u001b[39m(\u001b[38;5;28minput\u001b[39m().split())\n",
      "\u001b[31mValueError\u001b[39m: invalid literal for int() with base 10: ''"
     ]
    }
   ],
   "source": [
    "q = int(input())\n",
    "g = []\n",
    "cards = set(input().split())\n",
    "f = int(input())\n",
    "targets = input().split() \n",
    "for i in targets:\n",
    "    if i in cards:\n",
    "        g.append(1)\n",
    "    else:\n",
    "        g.append(0)\n",
    "for v in g:\n",
    "    print(v)\n"
   ]
  },
  {
   "cell_type": "markdown",
   "id": "0a5d673e",
   "metadata": {},
   "source": [
    "## 10816 숫자카드 2 | 구현 | B5"
   ]
  },
  {
   "cell_type": "code",
   "execution_count": null,
   "id": "26d1eb29",
   "metadata": {},
   "outputs": [
    {
     "ename": "_IncompleteInputError",
     "evalue": "incomplete input (3314823188.py, line 3)",
     "output_type": "error",
     "traceback": [
      "  \u001b[36mCell\u001b[39m\u001b[36m \u001b[39m\u001b[32mIn[1]\u001b[39m\u001b[32m, line 3\u001b[39m\n\u001b[31m    \u001b[39m\u001b[31mfor i in range(f):\u001b[39m\n                      ^\n\u001b[31m_IncompleteInputError\u001b[39m\u001b[31m:\u001b[39m incomplete input\n"
     ]
    }
   ],
   "source": [
    "q = int(input())\n",
    "f = list(map(int.input().split()))\n",
    "r = int(input())\n",
    "v = list(map(int.input().split()))\n",
    "b = {}\n",
    "for i in f:\n",
    "    if i in b:\n",
    "        b[i] += 1\n",
    "    else:\n",
    "        b[i] = 1\n",
    "for j in v:\n",
    "    if j in b:\n",
    "        print(b[j])\n",
    "    else:\n",
    "        print(0)\n",
    "    "
   ]
  },
  {
   "cell_type": "markdown",
   "id": "29c03eec",
   "metadata": {},
   "source": [
    "## 2751 수 정렬하기 2 | 구현 | B5"
   ]
  },
  {
   "cell_type": "code",
   "execution_count": 2,
   "id": "06b340a0",
   "metadata": {},
   "outputs": [
    {
     "name": "stdout",
     "output_type": "stream",
     "text": [
      "1\n",
      "2\n",
      "3\n",
      "4\n",
      "5\n"
     ]
    }
   ],
   "source": [
    "f = int(input())\n",
    "g = []\n",
    "for i in range(f):\n",
    "    g.append(int(input()))\n",
    "g.sort()\n",
    "for e in g:\n",
    "    print(e)"
   ]
  },
  {
   "cell_type": "markdown",
   "id": "637f385c",
   "metadata": {},
   "source": [
    "## 10814 나이순 정렬 | 구현 | B5"
   ]
  },
  {
   "cell_type": "code",
   "execution_count": 3,
   "id": "9f10b229",
   "metadata": {},
   "outputs": [
    {
     "name": "stdout",
     "output_type": "stream",
     "text": [
      "[20, 'namjin']\n",
      "[20, 'sejin']\n",
      "[21, 'zion']\n"
     ]
    }
   ],
   "source": [
    "f = int(input())\n",
    "r = []\n",
    "for i in range(f):\n",
    "        x = input().split()\n",
    "        d = x[0]\n",
    "        v = x[1]\n",
    "        r.append([int(d),v])\n",
    "r.sort()\n",
    "for e in r:\n",
    "        print(e)"
   ]
  },
  {
   "cell_type": "markdown",
   "id": "8f074501",
   "metadata": {},
   "source": [
    "## 11659 구간 합 구하기 4 | 구현 | B5"
   ]
  },
  {
   "cell_type": "code",
   "execution_count": null,
   "id": "f7837560",
   "metadata": {},
   "outputs": [],
   "source": [
    "import sys\n",
    "a, b = map(int, sys.stdin.readline().split()) \n",
    "x = list(map(int, sys.stdin.readline().split())) \n",
    "z = [0]\n",
    "p = 0\n",
    "for i in x:\n",
    "    p += i\n",
    "    z.append(p)\n",
    "for _ in range(b):\n",
    "    g, h = map(int, sys.stdin.readline().split())\n",
    "    print(z[h] - z[g - 1])  \n"
   ]
  },
  {
   "cell_type": "markdown",
   "id": "1505d356",
   "metadata": {},
   "source": [
    "## 2559 수열 | 구현 | B5"
   ]
  },
  {
   "cell_type": "code",
   "execution_count": null,
   "id": "526e6cde",
   "metadata": {},
   "outputs": [],
   "source": [
    "a, b = map(int, sys.stdin.readline().split())\n",
    "x = list(map(int, sys.stdin.readline().split()))"
   ]
  },
  {
   "cell_type": "markdown",
   "id": "e920e4a1",
   "metadata": {},
   "source": [
    "## 9093 단어 뒤집기 | 구현 | B5"
   ]
  },
  {
   "cell_type": "code",
   "execution_count": 9,
   "id": "7f10ea6c",
   "metadata": {},
   "outputs": [
    {
     "name": "stdout",
     "output_type": "stream",
     "text": [
      "I ma yppah yadot\n",
      "\n"
     ]
    }
   ],
   "source": [
    "r = int(input())\n",
    "for i in range(r):\n",
    "    x = input().split()\n",
    "    j = []\n",
    "    for e in x:\n",
    "        f = e[::-1] \n",
    "        j.append(f)\n",
    "    print(' '.join(j))"
   ]
  },
  {
   "cell_type": "markdown",
   "id": "6cd8ee69",
   "metadata": {},
   "source": [
    "## 17413 단어 뒤집기 2 | 구현 | B5"
   ]
  },
  {
   "cell_type": "code",
   "execution_count": null,
   "id": "73d84413",
   "metadata": {},
   "outputs": [],
   "source": [
    "s = input()\n",
    "g = []\n",
    "for i in s:\n",
    "    while i is \"<\":\n",
    "        g.append(i)\n"
   ]
  },
  {
   "cell_type": "markdown",
   "id": "8a257b50",
   "metadata": {},
   "source": [
    "## 1259 팰린드롬수 | 구현 | B5"
   ]
  },
  {
   "cell_type": "code",
   "execution_count": 8,
   "id": "64f6eff6",
   "metadata": {},
   "outputs": [
    {
     "name": "stdout",
     "output_type": "stream",
     "text": [
      "yes\n",
      "yes\n",
      "yes\n",
      "yes\n",
      "no\n"
     ]
    }
   ],
   "source": [
    "while True:\n",
    "    s = input()\n",
    "    if s == \"0\":\n",
    "        break\n",
    "    if s == s[::-1]:\n",
    "        print(\"yes\")\n",
    "    else:\n",
    "        print(\"no\")\n"
   ]
  },
  {
   "cell_type": "markdown",
   "id": "5ee43912",
   "metadata": {},
   "source": [
    "## 11718 그대로 출력하기 | 구현 | B5"
   ]
  },
  {
   "cell_type": "code",
   "execution_count": null,
   "id": "cd4ae7b3",
   "metadata": {},
   "outputs": [
    {
     "name": "stdout",
     "output_type": "stream",
     "text": [
      "안녕\n",
      "하세요\n",
      "저의\n",
      "이름은\n",
      "허시온\n",
      "입니다\n"
     ]
    }
   ],
   "source": [
    "while True:\n",
    "    x = input()\n",
    "    if x == \"\":\n",
    "        break\n",
    "    print(x)\n"
   ]
  },
  {
   "cell_type": "markdown",
   "id": "8b292ee3",
   "metadata": {},
   "source": [
    "## 10951 A + B - 4 | 구현 | B5"
   ]
  },
  {
   "cell_type": "code",
   "execution_count": 4,
   "id": "f0298759",
   "metadata": {},
   "outputs": [
    {
     "name": "stdout",
     "output_type": "stream",
     "text": [
      "3\n"
     ]
    },
    {
     "ename": "IndexError",
     "evalue": "list index out of range",
     "output_type": "error",
     "traceback": [
      "\u001b[31m---------------------------------------------------------------------------\u001b[39m",
      "\u001b[31mIndexError\u001b[39m                                Traceback (most recent call last)",
      "\u001b[36mCell\u001b[39m\u001b[36m \u001b[39m\u001b[32mIn[4]\u001b[39m\u001b[32m, line 5\u001b[39m\n\u001b[32m      3\u001b[39m y = \u001b[38;5;28minput\u001b[39m()\n\u001b[32m      4\u001b[39m x = y.split()\n\u001b[32m----> \u001b[39m\u001b[32m5\u001b[39m a = \u001b[38;5;28mint\u001b[39m(\u001b[43mx\u001b[49m\u001b[43m[\u001b[49m\u001b[32;43m0\u001b[39;49m\u001b[43m]\u001b[49m)\n\u001b[32m      6\u001b[39m b = \u001b[38;5;28mint\u001b[39m(x[\u001b[32m1\u001b[39m])\n\u001b[32m      7\u001b[39m \u001b[38;5;28mprint\u001b[39m(a+b)\n",
      "\u001b[31mIndexError\u001b[39m: list index out of range"
     ]
    }
   ],
   "source": [
    "while True:\n",
    "    try:\n",
    "        y = input()\n",
    "        x = y.split()\n",
    "        a = int(x[0])\n",
    "        b = int(x[1])\n",
    "        print(a+b)\n",
    "    except EOFError:\n",
    "        break\n",
    "    "
   ]
  },
  {
   "cell_type": "markdown",
   "id": "d936be30",
   "metadata": {},
   "source": [
    "## 2798 카지노 | 구현 | B5"
   ]
  },
  {
   "cell_type": "code",
   "execution_count": null,
   "id": "9fca5a1b",
   "metadata": {},
   "outputs": [],
   "source": [
    "n, m = map(int, input().split())\n",
    "cards = list(map(int, input().split()))\n",
    "best = 0\n",
    "for i in range(n):\n",
    "    for j in range(i + 1, n):\n",
    "        for k in range(j + 1, n):\n",
    "            total = cards[i] + cards[j] + cards[k]\n",
    "            if total <= m:\n",
    "                best = max(best, total)            \n",
    "print(best)\n"
   ]
  },
  {
   "cell_type": "markdown",
   "id": "a0cb8ab1",
   "metadata": {},
   "source": [
    "## 2231 분해합 | 구현 | B5"
   ]
  },
  {
   "cell_type": "code",
   "execution_count": 4,
   "id": "33ca7b0b",
   "metadata": {},
   "outputs": [
    {
     "name": "stdout",
     "output_type": "stream",
     "text": [
      "198\n"
     ]
    }
   ],
   "source": [
    "t = int(input())\n",
    "for i in range(1,t+1):\n",
    "    s = i + sum(map(int,str(i)))\n",
    "    if s == t:\n",
    "        break\n",
    "print(i)"
   ]
  },
  {
   "cell_type": "markdown",
   "id": "e71a07a8",
   "metadata": {},
   "source": [
    "## 1712 손익분기점 | 구현 | B5"
   ]
  },
  {
   "cell_type": "code",
   "execution_count": null,
   "id": "8a03c59a",
   "metadata": {},
   "outputs": [],
   "source": [
    "A, B, C = map(int, input().split())\n",
    "if C <= B:\n",
    "    print(-1)\n",
    "else:\n",
    "    x = A // (C - B) + 1\n",
    "    print(x)\n"
   ]
  },
  {
   "cell_type": "markdown",
   "id": "a30c778a",
   "metadata": {},
   "source": [
    "## 1065 한수 | 구현 | B5"
   ]
  },
  {
   "cell_type": "code",
   "execution_count": 5,
   "id": "85eb962a",
   "metadata": {},
   "outputs": [
    {
     "name": "stdout",
     "output_type": "stream",
     "text": [
      "99\n"
     ]
    }
   ],
   "source": [
    "def ff(e):\n",
    "    cnt = 0\n",
    "    for i in range(1,e+1):\n",
    "        if i < 100:\n",
    "            cnt += 1\n",
    "        else:\n",
    "            g = list(map(int,str(i)))\n",
    "            if g[1] - g[0] == g[2] - g[1]:\n",
    "                cnt += 1\n",
    "    return cnt\n",
    "print(ff(int(input())))"
   ]
  },
  {
   "cell_type": "markdown",
   "id": "827d0ba6",
   "metadata": {},
   "source": [
    "## 2941 크로아티아 알파벳 | 구현 | B5"
   ]
  },
  {
   "cell_type": "code",
   "execution_count": null,
   "id": "227f0e37",
   "metadata": {},
   "outputs": [
    {
     "name": "stdout",
     "output_type": "stream",
     "text": [
      "2\n"
     ]
    }
   ],
   "source": [
    "z = [\"c=\", \"c-\", \"dz=\", \"d-\", \"lj\", \"nj\", \"s=\", \"z=\"]\n",
    "d = input()\n",
    "i = 0      \n",
    "cnt = 0\n",
    "while i < len(d):  \n",
    "    if d[i:i+3] == \"dz=\":\n",
    "        cnt += 1\n",
    "        i += 3 \n",
    "    elif d[i:i+2] in z:\n",
    "        cnt += 1\n",
    "        i += 2 \n",
    "    else:\n",
    "        cnt += 1\n",
    "        i += 1\n",
    "print(cnt)\n"
   ]
  },
  {
   "cell_type": "markdown",
   "id": "461d023d",
   "metadata": {},
   "source": [
    "## 1436 영화감독 | 구현 | B5"
   ]
  },
  {
   "cell_type": "code",
   "execution_count": null,
   "id": "b2212159",
   "metadata": {},
   "outputs": [],
   "source": [
    "z = int(input())\n",
    "o = 666\n",
    "cnt = 0\n",
    "while True:\n",
    "    if '666' in str(num):\n",
    "        cnt += 1\n",
    "        if cnt ==n:\n",
    "            print(o)\n",
    "            break\n",
    "    num += 1"
   ]
  },
  {
   "cell_type": "markdown",
   "id": "b0160ba7",
   "metadata": {},
   "source": [
    "## 7568 덩치 | 구현 | B5"
   ]
  },
  {
   "cell_type": "code",
   "execution_count": null,
   "id": "efff04e5",
   "metadata": {},
   "outputs": [],
   "source": [
    "z = int(input())\n",
    "d = []\n",
    "for i in range(z):\n",
    "    x,y  = input().split()\n",
    "    a = int(x)\n",
    "    b = int(y)\n",
    "    d.append((a,b))\n",
    "for g in range(z):\n",
    "    r = 1\n",
    "    for j in range(z):\n",
    "        if f == j:\n",
    "            continue\n",
    "        if d[i][0] > d[j][0] and d[i][1] > d[j][1]:\n",
    "            r += 1\n",
    "    print(r,end=\"\"  )"
   ]
  },
  {
   "cell_type": "markdown",
   "id": "58c31890",
   "metadata": {},
   "source": [
    "## 4673 셀프넘버"
   ]
  },
  {
   "cell_type": "code",
   "execution_count": null,
   "id": "cb1f0762",
   "metadata": {},
   "outputs": [
    {
     "name": "stdout",
     "output_type": "stream",
     "text": [
      "3\n"
     ]
    }
   ],
   "source": [
    "def 자리수_구하기(n):\n",
    "    자리수 = 0\n",
    "    if n // 1000 >= 1:\n",
    "        자리수 = 4\n",
    "    elif n // 100 >= 1:\n",
    "        자리수 = 3\n",
    "    elif n // 10 >= 1:\n",
    "        자리수 = 2\n",
    "    elif n // 1 >= 1:\n",
    "        자리수 = 1\n",
    "    return 자리수\n",
    "\n",
    "def d(n):\n",
    "    n자리수 = 자리수_구하기(n)\n",
    "    \n",
    "    sum = n\n",
    "    \n",
    "    for i in range(n자리수):\n",
    "        sum += n // (10 ** i)        \n",
    "    \n",
    "    \n",
    "    # for i in range(n자리수):\n",
    "    #     sum += int(str(n)[i])\n",
    "        \n",
    "    return sum\n",
    "    \n",
    "    \n",
    "\n",
    "\n",
    "print(자리수_구하기(n))"
   ]
  }
 ],
 "metadata": {
  "kernelspec": {
   "display_name": "Python 3",
   "language": "python",
   "name": "python3"
  },
  "language_info": {
   "codemirror_mode": {
    "name": "ipython",
    "version": 3
   },
   "file_extension": ".py",
   "mimetype": "text/x-python",
   "name": "python",
   "nbconvert_exporter": "python",
   "pygments_lexer": "ipython3",
   "version": "3.11.9"
  }
 },
 "nbformat": 4,
 "nbformat_minor": 5
}
